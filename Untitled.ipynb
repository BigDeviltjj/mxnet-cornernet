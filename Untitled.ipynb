{
 "cells": [
  {
   "cell_type": "code",
   "execution_count": 6,
   "metadata": {
    "collapsed": true
   },
   "outputs": [],
   "source": [
    "from __future__ import division\n",
    "import argparse\n",
    "import mxnet as mx\n",
    "import os\n",
    "import sys\n",
    "os.environ['MXNET_CUDNN_AUTOTUNE_DEFAULT'] = '0'\n",
    "from config.cfg import cfg\n",
    "import logging\n",
    "from dataset.loader import DetRecordIter\n",
    "from dataset.load_data import load_gt_roidb, merge_roidb, filter_roidb\n",
    "from symbols.cornernet import CornerNet\n",
    "import numpy as np\n",
    "from utils.metric import CornerNetMetric\n"
   ]
  },
  {
   "cell_type": "code",
   "execution_count": 7,
   "metadata": {},
   "outputs": [],
   "source": [
    "cfg['num_ctx'] = 1\n",
    "cfg['batch_size'] = 2\n",
    "\n"
   ]
  },
  {
   "cell_type": "code",
   "execution_count": 8,
   "metadata": {
    "collapsed": true
   },
   "outputs": [],
   "source": [
    "ctx = mx.gpu(0)"
   ]
  },
  {
   "cell_type": "code",
   "execution_count": 54,
   "metadata": {
    "scrolled": true
   },
   "outputs": [
    {
     "name": "stderr",
     "output_type": "stream",
     "text": [
      "/mnt/data-1/data/jiajie.tang/miniconda3/envs/gluon/lib/python3.6/site-packages/mxnet/module/base_module.py:55: UserWarning: \u001b[91mYou created Module with Module(..., label_names=['softmax_label']) but input with name 'softmax_label' is not found in symbol.list_arguments(). Did you mean one of:\n",
      "\tdata\u001b[0m\n",
      "  warnings.warn(msg)\n",
      "/mnt/data-1/data/jiajie.tang/miniconda3/envs/gluon/lib/python3.6/site-packages/mxnet/module/base_module.py:67: UserWarning: Data provided by label_shapes don't match names specified by label_names ([] vs. ['softmax_label'])\n",
      "  warnings.warn(msg)\n"
     ]
    }
   ],
   "source": [
    "sym = CornerNet(is_train = False, cfgs = cfg)\n",
    "#up_0_2_1\n",
    "sym = sym.get_internals()['br_regrs_1_1_output']\n",
    "\n",
    "mod = mx.mod.Module(symbol = sym, context = ctx, data_names = ['data'])\n",
    "mod.bind(data_shapes=[('data',(2,3,511,767))], label_shapes=None)\n",
    "_, params, auxs = mx.model.load_checkpoint('model/pretrained_cornernet',0)\n",
    "mod.set_params(params, auxs, allow_missing=False, force_init=True)\n",
    "it = np.load('image.npy')\n",
    "mod.forward(mx.io.DataBatch(data=[mx.nd.array(it)]),is_train = False)\n",
    "out = mod.get_outputs()[0]\n"
   ]
  },
  {
   "cell_type": "code",
   "execution_count": 55,
   "metadata": {
    "scrolled": true
   },
   "outputs": [
    {
     "data": {
      "text/plain": [
       "(0.5043346, 0.103618406)"
      ]
     },
     "execution_count": 55,
     "metadata": {},
     "output_type": "execute_result"
    }
   ],
   "source": [
    "out.asnumpy().mean(),out.asnumpy().std()"
   ]
  },
  {
   "cell_type": "code",
   "execution_count": 56,
   "metadata": {
    "scrolled": true
   },
   "outputs": [
    {
     "name": "stdout",
     "output_type": "stream",
     "text": [
      "[0.4591843  0.545167   0.68779266 0.39854074 0.539371   0.49371654\n",
      " 0.513384   0.495102   0.49948156 0.5079846  0.5161922  0.539763\n",
      " 0.5549044  0.49751705 0.5789982  0.48388857 0.42072132 0.52557296\n",
      " 0.5168343  0.53197956 0.53079027 0.5124962  0.51055694 0.50686026\n",
      " 0.4997768  0.49609652 0.51030236 0.52675885 0.5385456  0.53449136\n",
      " 0.53571546 0.5392461  0.5405073  0.5292462  0.5232069  0.53362435\n",
      " 0.531296   0.53605735 0.52373415 0.5390135  0.5340383  0.5264695\n",
      " 0.52643996 0.53011256 0.5286986  0.5099746  0.52323097 0.5251449\n",
      " 0.5220801  0.5087833  0.5117627  0.5133493  0.5244585  0.5107407\n",
      " 0.5137544  0.4935227  0.490723   0.48195544 0.49263474 0.4963631\n",
      " 0.5011391  0.5008886  0.5028428  0.5051623  0.50102603 0.5213054\n",
      " 0.51374143 0.5080271  0.5151186  0.5172075  0.49899104 0.49765766\n",
      " 0.47891453 0.49173054 0.48926646 0.490271   0.5014949  0.50790656\n",
      " 0.5251227  0.5242354  0.54340243 0.5662311  0.5368636  0.52816045\n",
      " 0.5216324  0.5148661  0.4727631  0.4845081  0.5014047  0.5039989\n",
      " 0.5063182  0.5225436  0.5203847  0.5097992  0.520708   0.51496947\n",
      " 0.5189907  0.5303257  0.5338044  0.5506591  0.55687666 0.54936075\n",
      " 0.547922   0.542055   0.540373   0.54162586 0.5362893  0.5414584\n",
      " 0.54334944 0.5354095  0.53687173 0.5372364  0.5463267  0.5448328\n",
      " 0.54214454 0.5407469  0.5340067  0.5231402  0.5268856  0.5400841\n",
      " 0.531702   0.5310074  0.53043514 0.52974683 0.53187984 0.53084904\n",
      " 0.53870225 0.5385726  0.54129386 0.5341614  0.53449285 0.5300731\n",
      " 0.52759594 0.5272412  0.539191   0.53872824 0.53418297 0.5376814\n",
      " 0.5401758  0.53782195 0.539968   0.5385919  0.5338321  0.5251671\n",
      " 0.5270409  0.5239973  0.5224268  0.5189896  0.51990944 0.5182434\n",
      " 0.5224254  0.5168163  0.50393283 0.50631934 0.51025957 0.5104985\n",
      " 0.5110847  0.5140246  0.5195326  0.52781373 0.5273825  0.5170405\n",
      " 0.516052   0.5053727  0.5116536  0.52261144 0.5207264  0.5115668\n",
      " 0.5261004  0.54934376 0.57433623 0.5524503  0.5538297  0.55167156\n",
      " 0.58157665 0.61821514 0.32769567 0.5578191  0.4819433  0.541107\n",
      " 0.5645251  0.55445623 0.5837831  0.612378   0.6464023  0.65159816\n",
      " 0.60862935 0.53241545 0.48060998 0.57752365 0.4707166  0.77968645]\n"
     ]
    }
   ],
   "source": [
    "print(out.asnumpy()[0,0,10,:])"
   ]
  },
  {
   "cell_type": "code",
   "execution_count": 57,
   "metadata": {},
   "outputs": [
    {
     "name": "stdout",
     "output_type": "stream",
     "text": [
      "23433 2.5187275\n"
     ]
    }
   ],
   "source": [
    "print(out.asnumpy().argmax(),out.asnumpy().max())"
   ]
  },
  {
   "cell_type": "code",
   "execution_count": 58,
   "metadata": {
    "collapsed": true
   },
   "outputs": [],
   "source": [
    "params =mod.get_params()"
   ]
  },
  {
   "cell_type": "code",
   "execution_count": 14,
   "metadata": {},
   "outputs": [
    {
     "data": {
      "text/plain": [
       "dict_keys(['pre_conv_weight', 'pre_bn_gamma', 'pre_bn_beta', 'pre_res1_conv_weight', 'pre_res1_bn_gamma', 'pre_res1_bn_beta', 'pre_res2_conv_weight', 'pre_res2_bn_gamma', 'pre_res2_bn_beta', 'pre_res_skip_conv_weight', 'pre_res_skip_bn_gamma', 'pre_res_skip_bn_beta', 'inter_0_0_weight', 'inter_0_1_gamma', 'inter_0_1_beta', 'up_0_1_5_0_res1_conv_weight', 'up_0_1_5_0_res1_bn_gamma', 'up_0_1_5_0_res1_bn_beta', 'up_0_1_5_0_res2_conv_weight', 'up_0_1_5_0_res2_bn_gamma', 'up_0_1_5_0_res2_bn_beta', 'up_0_1_5_1_res1_conv_weight', 'up_0_1_5_1_res1_bn_gamma', 'up_0_1_5_1_res1_bn_beta', 'up_0_1_5_1_res2_conv_weight', 'up_0_1_5_1_res2_bn_gamma', 'up_0_1_5_1_res2_bn_beta', 'low_0_1_5_0_res1_conv_weight', 'low_0_1_5_0_res1_bn_gamma', 'low_0_1_5_0_res1_bn_beta', 'low_0_1_5_0_res2_conv_weight', 'low_0_1_5_0_res2_bn_gamma', 'low_0_1_5_0_res2_bn_beta', 'low_0_1_5_0_res_skip_conv_weight', 'low_0_1_5_0_res_skip_bn_gamma', 'low_0_1_5_0_res_skip_bn_beta', 'low_0_1_5_1_res1_conv_weight', 'low_0_1_5_1_res1_bn_gamma', 'low_0_1_5_1_res1_bn_beta', 'low_0_1_5_1_res2_conv_weight', 'low_0_1_5_1_res2_bn_gamma', 'low_0_1_5_1_res2_bn_beta', 'up_0_1_4_0_res1_conv_weight', 'up_0_1_4_0_res1_bn_gamma', 'up_0_1_4_0_res1_bn_beta', 'up_0_1_4_0_res2_conv_weight', 'up_0_1_4_0_res2_bn_gamma', 'up_0_1_4_0_res2_bn_beta', 'up_0_1_4_1_res1_conv_weight', 'up_0_1_4_1_res1_bn_gamma', 'up_0_1_4_1_res1_bn_beta', 'up_0_1_4_1_res2_conv_weight', 'up_0_1_4_1_res2_bn_gamma', 'up_0_1_4_1_res2_bn_beta', 'low_0_1_4_0_res1_conv_weight', 'low_0_1_4_0_res1_bn_gamma', 'low_0_1_4_0_res1_bn_beta', 'low_0_1_4_0_res2_conv_weight', 'low_0_1_4_0_res2_bn_gamma', 'low_0_1_4_0_res2_bn_beta', 'low_0_1_4_0_res_skip_conv_weight', 'low_0_1_4_0_res_skip_bn_gamma', 'low_0_1_4_0_res_skip_bn_beta', 'low_0_1_4_1_res1_conv_weight', 'low_0_1_4_1_res1_bn_gamma', 'low_0_1_4_1_res1_bn_beta', 'low_0_1_4_1_res2_conv_weight', 'low_0_1_4_1_res2_bn_gamma', 'low_0_1_4_1_res2_bn_beta', 'up_0_1_3_0_res1_conv_weight', 'up_0_1_3_0_res1_bn_gamma', 'up_0_1_3_0_res1_bn_beta', 'up_0_1_3_0_res2_conv_weight', 'up_0_1_3_0_res2_bn_gamma', 'up_0_1_3_0_res2_bn_beta', 'up_0_1_3_1_res1_conv_weight', 'up_0_1_3_1_res1_bn_gamma', 'up_0_1_3_1_res1_bn_beta', 'up_0_1_3_1_res2_conv_weight', 'up_0_1_3_1_res2_bn_gamma', 'up_0_1_3_1_res2_bn_beta', 'low_0_1_3_0_res1_conv_weight', 'low_0_1_3_0_res1_bn_gamma', 'low_0_1_3_0_res1_bn_beta', 'low_0_1_3_0_res2_conv_weight', 'low_0_1_3_0_res2_bn_gamma', 'low_0_1_3_0_res2_bn_beta', 'low_0_1_3_0_res_skip_conv_weight', 'low_0_1_3_0_res_skip_bn_gamma', 'low_0_1_3_0_res_skip_bn_beta', 'low_0_1_3_1_res1_conv_weight', 'low_0_1_3_1_res1_bn_gamma', 'low_0_1_3_1_res1_bn_beta', 'low_0_1_3_1_res2_conv_weight', 'low_0_1_3_1_res2_bn_gamma', 'low_0_1_3_1_res2_bn_beta', 'up_0_1_2_0_res1_conv_weight', 'up_0_1_2_0_res1_bn_gamma', 'up_0_1_2_0_res1_bn_beta', 'up_0_1_2_0_res2_conv_weight', 'up_0_1_2_0_res2_bn_gamma', 'up_0_1_2_0_res2_bn_beta', 'up_0_1_2_1_res1_conv_weight', 'up_0_1_2_1_res1_bn_gamma', 'up_0_1_2_1_res1_bn_beta', 'up_0_1_2_1_res2_conv_weight', 'up_0_1_2_1_res2_bn_gamma', 'up_0_1_2_1_res2_bn_beta', 'low_0_1_2_0_res1_conv_weight', 'low_0_1_2_0_res1_bn_gamma', 'low_0_1_2_0_res1_bn_beta', 'low_0_1_2_0_res2_conv_weight', 'low_0_1_2_0_res2_bn_gamma', 'low_0_1_2_0_res2_bn_beta', 'low_0_1_2_0_res_skip_conv_weight', 'low_0_1_2_0_res_skip_bn_gamma', 'low_0_1_2_0_res_skip_bn_beta', 'low_0_1_2_1_res1_conv_weight', 'low_0_1_2_1_res1_bn_gamma', 'low_0_1_2_1_res1_bn_beta', 'low_0_1_2_1_res2_conv_weight', 'low_0_1_2_1_res2_bn_gamma', 'low_0_1_2_1_res2_bn_beta', 'up_0_1_1_0_res1_conv_weight', 'up_0_1_1_0_res1_bn_gamma', 'up_0_1_1_0_res1_bn_beta', 'up_0_1_1_0_res2_conv_weight', 'up_0_1_1_0_res2_bn_gamma', 'up_0_1_1_0_res2_bn_beta', 'up_0_1_1_1_res1_conv_weight', 'up_0_1_1_1_res1_bn_gamma', 'up_0_1_1_1_res1_bn_beta', 'up_0_1_1_1_res2_conv_weight', 'up_0_1_1_1_res2_bn_gamma', 'up_0_1_1_1_res2_bn_beta', 'low_0_1_1_0_res1_conv_weight', 'low_0_1_1_0_res1_bn_gamma', 'low_0_1_1_0_res1_bn_beta', 'low_0_1_1_0_res2_conv_weight', 'low_0_1_1_0_res2_bn_gamma', 'low_0_1_1_0_res2_bn_beta', 'low_0_1_1_0_res_skip_conv_weight', 'low_0_1_1_0_res_skip_bn_gamma', 'low_0_1_1_0_res_skip_bn_beta', 'low_0_1_1_1_res1_conv_weight', 'low_0_1_1_1_res1_bn_gamma', 'low_0_1_1_1_res1_bn_beta', 'low_0_1_1_1_res2_conv_weight', 'low_0_1_1_1_res2_bn_gamma', 'low_0_1_1_1_res2_bn_beta', 'low_0_2_1_0_res1_conv_weight', 'low_0_2_1_0_res1_bn_gamma', 'low_0_2_1_0_res1_bn_beta', 'low_0_2_1_0_res2_conv_weight', 'low_0_2_1_0_res2_bn_gamma', 'low_0_2_1_0_res2_bn_beta', 'low_0_2_1_1_res1_conv_weight', 'low_0_2_1_1_res1_bn_gamma', 'low_0_2_1_1_res1_bn_beta', 'low_0_2_1_1_res2_conv_weight', 'low_0_2_1_1_res2_bn_gamma', 'low_0_2_1_1_res2_bn_beta', 'low_0_2_1_2_res1_conv_weight', 'low_0_2_1_2_res1_bn_gamma', 'low_0_2_1_2_res1_bn_beta', 'low_0_2_1_2_res2_conv_weight', 'low_0_2_1_2_res2_bn_gamma', 'low_0_2_1_2_res2_bn_beta', 'low_0_2_1_3_res1_conv_weight', 'low_0_2_1_3_res1_bn_gamma', 'low_0_2_1_3_res1_bn_beta', 'low_0_2_1_3_res2_conv_weight', 'low_0_2_1_3_res2_bn_gamma', 'low_0_2_1_3_res2_bn_beta', 'low_0_3_1_0_res1_conv_weight', 'low_0_3_1_0_res1_bn_gamma', 'low_0_3_1_0_res1_bn_beta', 'low_0_3_1_0_res2_conv_weight', 'low_0_3_1_0_res2_bn_gamma', 'low_0_3_1_0_res2_bn_beta', 'low_0_3_1_1_res1_conv_weight', 'low_0_3_1_1_res1_bn_gamma', 'low_0_3_1_1_res1_bn_beta', 'low_0_3_1_1_res2_conv_weight', 'low_0_3_1_1_res2_bn_gamma', 'low_0_3_1_1_res2_bn_beta', 'low_0_3_1_1_res_skip_conv_weight', 'low_0_3_1_1_res_skip_bn_gamma', 'low_0_3_1_1_res_skip_bn_beta', 'low_0_3_2_0_res1_conv_weight', 'low_0_3_2_0_res1_bn_gamma', 'low_0_3_2_0_res1_bn_beta', 'low_0_3_2_0_res2_conv_weight', 'low_0_3_2_0_res2_bn_gamma', 'low_0_3_2_0_res2_bn_beta', 'low_0_3_2_1_res1_conv_weight', 'low_0_3_2_1_res1_bn_gamma', 'low_0_3_2_1_res1_bn_beta', 'low_0_3_2_1_res2_conv_weight', 'low_0_3_2_1_res2_bn_gamma', 'low_0_3_2_1_res2_bn_beta', 'low_0_3_3_0_res1_conv_weight', 'low_0_3_3_0_res1_bn_gamma', 'low_0_3_3_0_res1_bn_beta', 'low_0_3_3_0_res2_conv_weight', 'low_0_3_3_0_res2_bn_gamma', 'low_0_3_3_0_res2_bn_beta', 'low_0_3_3_1_res1_conv_weight', 'low_0_3_3_1_res1_bn_gamma', 'low_0_3_3_1_res1_bn_beta', 'low_0_3_3_1_res2_conv_weight', 'low_0_3_3_1_res2_bn_gamma', 'low_0_3_3_1_res2_bn_beta', 'low_0_3_4_0_res1_conv_weight', 'low_0_3_4_0_res1_bn_gamma', 'low_0_3_4_0_res1_bn_beta', 'low_0_3_4_0_res2_conv_weight', 'low_0_3_4_0_res2_bn_gamma', 'low_0_3_4_0_res2_bn_beta', 'low_0_3_4_1_res1_conv_weight', 'low_0_3_4_1_res1_bn_gamma', 'low_0_3_4_1_res1_bn_beta', 'low_0_3_4_1_res2_conv_weight', 'low_0_3_4_1_res2_bn_gamma', 'low_0_3_4_1_res2_bn_beta', 'low_0_3_4_1_res_skip_conv_weight', 'low_0_3_4_1_res_skip_bn_gamma', 'low_0_3_4_1_res_skip_bn_beta', 'low_0_3_5_0_res1_conv_weight', 'low_0_3_5_0_res1_bn_gamma', 'low_0_3_5_0_res1_bn_beta', 'low_0_3_5_0_res2_conv_weight', 'low_0_3_5_0_res2_bn_gamma', 'low_0_3_5_0_res2_bn_beta', 'low_0_3_5_1_res1_conv_weight', 'low_0_3_5_1_res1_bn_gamma', 'low_0_3_5_1_res1_bn_beta', 'low_0_3_5_1_res2_conv_weight', 'low_0_3_5_1_res2_bn_gamma', 'low_0_3_5_1_res2_bn_beta', 'cnv_0_conv_weight', 'cnv_0_bn_gamma', 'cnv_0_bn_beta', 'cnvs_0_0_weight', 'cnvs_0_1_gamma', 'cnvs_0_1_beta', 'inters_0_res1_conv_weight', 'inters_0_res1_bn_gamma', 'inters_0_res1_bn_beta', 'inters_0_res2_conv_weight', 'inters_0_res2_bn_gamma', 'inters_0_res2_bn_beta', 'up_1_1_5_0_res1_conv_weight', 'up_1_1_5_0_res1_bn_gamma', 'up_1_1_5_0_res1_bn_beta', 'up_1_1_5_0_res2_conv_weight', 'up_1_1_5_0_res2_bn_gamma', 'up_1_1_5_0_res2_bn_beta', 'up_1_1_5_1_res1_conv_weight', 'up_1_1_5_1_res1_bn_gamma', 'up_1_1_5_1_res1_bn_beta', 'up_1_1_5_1_res2_conv_weight', 'up_1_1_5_1_res2_bn_gamma', 'up_1_1_5_1_res2_bn_beta', 'low_1_1_5_0_res1_conv_weight', 'low_1_1_5_0_res1_bn_gamma', 'low_1_1_5_0_res1_bn_beta', 'low_1_1_5_0_res2_conv_weight', 'low_1_1_5_0_res2_bn_gamma', 'low_1_1_5_0_res2_bn_beta', 'low_1_1_5_0_res_skip_conv_weight', 'low_1_1_5_0_res_skip_bn_gamma', 'low_1_1_5_0_res_skip_bn_beta', 'low_1_1_5_1_res1_conv_weight', 'low_1_1_5_1_res1_bn_gamma', 'low_1_1_5_1_res1_bn_beta', 'low_1_1_5_1_res2_conv_weight', 'low_1_1_5_1_res2_bn_gamma', 'low_1_1_5_1_res2_bn_beta', 'up_1_1_4_0_res1_conv_weight', 'up_1_1_4_0_res1_bn_gamma', 'up_1_1_4_0_res1_bn_beta', 'up_1_1_4_0_res2_conv_weight', 'up_1_1_4_0_res2_bn_gamma', 'up_1_1_4_0_res2_bn_beta', 'up_1_1_4_1_res1_conv_weight', 'up_1_1_4_1_res1_bn_gamma', 'up_1_1_4_1_res1_bn_beta', 'up_1_1_4_1_res2_conv_weight', 'up_1_1_4_1_res2_bn_gamma', 'up_1_1_4_1_res2_bn_beta', 'low_1_1_4_0_res1_conv_weight', 'low_1_1_4_0_res1_bn_gamma', 'low_1_1_4_0_res1_bn_beta', 'low_1_1_4_0_res2_conv_weight', 'low_1_1_4_0_res2_bn_gamma', 'low_1_1_4_0_res2_bn_beta', 'low_1_1_4_0_res_skip_conv_weight', 'low_1_1_4_0_res_skip_bn_gamma', 'low_1_1_4_0_res_skip_bn_beta', 'low_1_1_4_1_res1_conv_weight', 'low_1_1_4_1_res1_bn_gamma', 'low_1_1_4_1_res1_bn_beta', 'low_1_1_4_1_res2_conv_weight', 'low_1_1_4_1_res2_bn_gamma', 'low_1_1_4_1_res2_bn_beta', 'up_1_1_3_0_res1_conv_weight', 'up_1_1_3_0_res1_bn_gamma', 'up_1_1_3_0_res1_bn_beta', 'up_1_1_3_0_res2_conv_weight', 'up_1_1_3_0_res2_bn_gamma', 'up_1_1_3_0_res2_bn_beta', 'up_1_1_3_1_res1_conv_weight', 'up_1_1_3_1_res1_bn_gamma', 'up_1_1_3_1_res1_bn_beta', 'up_1_1_3_1_res2_conv_weight', 'up_1_1_3_1_res2_bn_gamma', 'up_1_1_3_1_res2_bn_beta', 'low_1_1_3_0_res1_conv_weight', 'low_1_1_3_0_res1_bn_gamma', 'low_1_1_3_0_res1_bn_beta', 'low_1_1_3_0_res2_conv_weight', 'low_1_1_3_0_res2_bn_gamma', 'low_1_1_3_0_res2_bn_beta', 'low_1_1_3_0_res_skip_conv_weight', 'low_1_1_3_0_res_skip_bn_gamma', 'low_1_1_3_0_res_skip_bn_beta', 'low_1_1_3_1_res1_conv_weight', 'low_1_1_3_1_res1_bn_gamma', 'low_1_1_3_1_res1_bn_beta', 'low_1_1_3_1_res2_conv_weight', 'low_1_1_3_1_res2_bn_gamma', 'low_1_1_3_1_res2_bn_beta', 'up_1_1_2_0_res1_conv_weight', 'up_1_1_2_0_res1_bn_gamma', 'up_1_1_2_0_res1_bn_beta', 'up_1_1_2_0_res2_conv_weight', 'up_1_1_2_0_res2_bn_gamma', 'up_1_1_2_0_res2_bn_beta', 'up_1_1_2_1_res1_conv_weight', 'up_1_1_2_1_res1_bn_gamma', 'up_1_1_2_1_res1_bn_beta', 'up_1_1_2_1_res2_conv_weight', 'up_1_1_2_1_res2_bn_gamma', 'up_1_1_2_1_res2_bn_beta', 'low_1_1_2_0_res1_conv_weight', 'low_1_1_2_0_res1_bn_gamma', 'low_1_1_2_0_res1_bn_beta', 'low_1_1_2_0_res2_conv_weight', 'low_1_1_2_0_res2_bn_gamma', 'low_1_1_2_0_res2_bn_beta', 'low_1_1_2_0_res_skip_conv_weight', 'low_1_1_2_0_res_skip_bn_gamma', 'low_1_1_2_0_res_skip_bn_beta', 'low_1_1_2_1_res1_conv_weight', 'low_1_1_2_1_res1_bn_gamma', 'low_1_1_2_1_res1_bn_beta', 'low_1_1_2_1_res2_conv_weight', 'low_1_1_2_1_res2_bn_gamma', 'low_1_1_2_1_res2_bn_beta', 'up_1_1_1_0_res1_conv_weight', 'up_1_1_1_0_res1_bn_gamma', 'up_1_1_1_0_res1_bn_beta', 'up_1_1_1_0_res2_conv_weight', 'up_1_1_1_0_res2_bn_gamma', 'up_1_1_1_0_res2_bn_beta', 'up_1_1_1_1_res1_conv_weight', 'up_1_1_1_1_res1_bn_gamma', 'up_1_1_1_1_res1_bn_beta', 'up_1_1_1_1_res2_conv_weight', 'up_1_1_1_1_res2_bn_gamma', 'up_1_1_1_1_res2_bn_beta', 'low_1_1_1_0_res1_conv_weight', 'low_1_1_1_0_res1_bn_gamma', 'low_1_1_1_0_res1_bn_beta', 'low_1_1_1_0_res2_conv_weight', 'low_1_1_1_0_res2_bn_gamma', 'low_1_1_1_0_res2_bn_beta', 'low_1_1_1_0_res_skip_conv_weight', 'low_1_1_1_0_res_skip_bn_gamma', 'low_1_1_1_0_res_skip_bn_beta', 'low_1_1_1_1_res1_conv_weight', 'low_1_1_1_1_res1_bn_gamma', 'low_1_1_1_1_res1_bn_beta', 'low_1_1_1_1_res2_conv_weight', 'low_1_1_1_1_res2_bn_gamma', 'low_1_1_1_1_res2_bn_beta', 'low_1_2_1_0_res1_conv_weight', 'low_1_2_1_0_res1_bn_gamma', 'low_1_2_1_0_res1_bn_beta', 'low_1_2_1_0_res2_conv_weight', 'low_1_2_1_0_res2_bn_gamma', 'low_1_2_1_0_res2_bn_beta', 'low_1_2_1_1_res1_conv_weight', 'low_1_2_1_1_res1_bn_gamma', 'low_1_2_1_1_res1_bn_beta', 'low_1_2_1_1_res2_conv_weight', 'low_1_2_1_1_res2_bn_gamma', 'low_1_2_1_1_res2_bn_beta', 'low_1_2_1_2_res1_conv_weight', 'low_1_2_1_2_res1_bn_gamma', 'low_1_2_1_2_res1_bn_beta', 'low_1_2_1_2_res2_conv_weight', 'low_1_2_1_2_res2_bn_gamma', 'low_1_2_1_2_res2_bn_beta', 'low_1_2_1_3_res1_conv_weight', 'low_1_2_1_3_res1_bn_gamma', 'low_1_2_1_3_res1_bn_beta', 'low_1_2_1_3_res2_conv_weight', 'low_1_2_1_3_res2_bn_gamma', 'low_1_2_1_3_res2_bn_beta', 'low_1_3_1_0_res1_conv_weight', 'low_1_3_1_0_res1_bn_gamma', 'low_1_3_1_0_res1_bn_beta', 'low_1_3_1_0_res2_conv_weight', 'low_1_3_1_0_res2_bn_gamma', 'low_1_3_1_0_res2_bn_beta', 'low_1_3_1_1_res1_conv_weight', 'low_1_3_1_1_res1_bn_gamma', 'low_1_3_1_1_res1_bn_beta', 'low_1_3_1_1_res2_conv_weight', 'low_1_3_1_1_res2_bn_gamma', 'low_1_3_1_1_res2_bn_beta', 'low_1_3_1_1_res_skip_conv_weight', 'low_1_3_1_1_res_skip_bn_gamma', 'low_1_3_1_1_res_skip_bn_beta', 'low_1_3_2_0_res1_conv_weight', 'low_1_3_2_0_res1_bn_gamma', 'low_1_3_2_0_res1_bn_beta', 'low_1_3_2_0_res2_conv_weight', 'low_1_3_2_0_res2_bn_gamma', 'low_1_3_2_0_res2_bn_beta', 'low_1_3_2_1_res1_conv_weight', 'low_1_3_2_1_res1_bn_gamma', 'low_1_3_2_1_res1_bn_beta', 'low_1_3_2_1_res2_conv_weight', 'low_1_3_2_1_res2_bn_gamma', 'low_1_3_2_1_res2_bn_beta', 'low_1_3_3_0_res1_conv_weight', 'low_1_3_3_0_res1_bn_gamma', 'low_1_3_3_0_res1_bn_beta', 'low_1_3_3_0_res2_conv_weight', 'low_1_3_3_0_res2_bn_gamma', 'low_1_3_3_0_res2_bn_beta', 'low_1_3_3_1_res1_conv_weight', 'low_1_3_3_1_res1_bn_gamma', 'low_1_3_3_1_res1_bn_beta', 'low_1_3_3_1_res2_conv_weight', 'low_1_3_3_1_res2_bn_gamma', 'low_1_3_3_1_res2_bn_beta', 'low_1_3_4_0_res1_conv_weight', 'low_1_3_4_0_res1_bn_gamma', 'low_1_3_4_0_res1_bn_beta', 'low_1_3_4_0_res2_conv_weight', 'low_1_3_4_0_res2_bn_gamma', 'low_1_3_4_0_res2_bn_beta', 'low_1_3_4_1_res1_conv_weight', 'low_1_3_4_1_res1_bn_gamma', 'low_1_3_4_1_res1_bn_beta', 'low_1_3_4_1_res2_conv_weight', 'low_1_3_4_1_res2_bn_gamma', 'low_1_3_4_1_res2_bn_beta', 'low_1_3_4_1_res_skip_conv_weight', 'low_1_3_4_1_res_skip_bn_gamma', 'low_1_3_4_1_res_skip_bn_beta', 'low_1_3_5_0_res1_conv_weight', 'low_1_3_5_0_res1_bn_gamma', 'low_1_3_5_0_res1_bn_beta', 'low_1_3_5_0_res2_conv_weight', 'low_1_3_5_0_res2_bn_gamma', 'low_1_3_5_0_res2_bn_beta', 'low_1_3_5_1_res1_conv_weight', 'low_1_3_5_1_res1_bn_gamma', 'low_1_3_5_1_res1_bn_beta', 'low_1_3_5_1_res2_conv_weight', 'low_1_3_5_1_res2_bn_gamma', 'low_1_3_5_1_res2_bn_beta', 'cnv_1_conv_weight', 'cnv_1_bn_gamma', 'cnv_1_bn_beta', 'tl_1_p1_conv1_conv_weight', 'tl_1_p1_conv1_bn_gamma', 'tl_1_p1_conv1_bn_beta'])"
      ]
     },
     "execution_count": 14,
     "metadata": {},
     "output_type": "execute_result"
    }
   ],
   "source": [
    "params[0].keys()"
   ]
  },
  {
   "cell_type": "code",
   "execution_count": 4,
   "metadata": {},
   "outputs": [
    {
     "data": {
      "text/plain": [
       "<Symbol group [data, pre_conv_weight, pre_conv, pre_bn_gamma, pre_bn_beta, pre_bn_moving_mean, pre_bn_moving_var, pre_bn, pre_relu, pre_res1_conv_weight, pre_res1_conv, pre_res1_bn_gamma, pre_res1_bn_beta, pre_res1_bn_moving_mean, pre_res1_bn_moving_var, pre_res1_bn, pre_res1_relu, pre_res2_conv_weight, pre_res2_conv, pre_res2_bn_gamma, pre_res2_bn_beta, pre_res2_bn_moving_mean, pre_res2_bn_moving_var, pre_res2_bn, pre_res_skip_conv_weight, pre_res_skip_conv, pre_res_skip_bn_gamma, pre_res_skip_bn_beta, pre_res_skip_bn_moving_mean, pre_res_skip_bn_moving_var, pre_res_skip_bn, pre_res_add, pre_res_out, inter_0_0_weight, inter_0_0, inter_0_1_gamma, inter_0_1_beta, inter_0_1_moving_mean, inter_0_1_moving_var, inter_0_1, up_0_1_5_0_res1_conv_weight, up_0_1_5_0_res1_conv, up_0_1_5_0_res1_bn_gamma, up_0_1_5_0_res1_bn_beta, up_0_1_5_0_res1_bn_moving_mean, up_0_1_5_0_res1_bn_moving_var, up_0_1_5_0_res1_bn, up_0_1_5_0_res1_relu, up_0_1_5_0_res2_conv_weight, up_0_1_5_0_res2_conv, up_0_1_5_0_res2_bn_gamma, up_0_1_5_0_res2_bn_beta, up_0_1_5_0_res2_bn_moving_mean, up_0_1_5_0_res2_bn_moving_var, up_0_1_5_0_res2_bn, up_0_1_5_0_res_add, up_0_1_5_0_res_out, up_0_1_5_1_res1_conv_weight, up_0_1_5_1_res1_conv, up_0_1_5_1_res1_bn_gamma, up_0_1_5_1_res1_bn_beta, up_0_1_5_1_res1_bn_moving_mean, up_0_1_5_1_res1_bn_moving_var, up_0_1_5_1_res1_bn, up_0_1_5_1_res1_relu, up_0_1_5_1_res2_conv_weight, up_0_1_5_1_res2_conv, up_0_1_5_1_res2_bn_gamma, up_0_1_5_1_res2_bn_beta, up_0_1_5_1_res2_bn_moving_mean, up_0_1_5_1_res2_bn_moving_var, up_0_1_5_1_res2_bn, up_0_1_5_1_res_add, up_0_1_5_1_res_out, low_0_1_5_0_res1_conv_weight, low_0_1_5_0_res1_conv, low_0_1_5_0_res1_bn_gamma, low_0_1_5_0_res1_bn_beta, low_0_1_5_0_res1_bn_moving_mean, low_0_1_5_0_res1_bn_moving_var, low_0_1_5_0_res1_bn, low_0_1_5_0_res1_relu, low_0_1_5_0_res2_conv_weight, low_0_1_5_0_res2_conv, low_0_1_5_0_res2_bn_gamma, low_0_1_5_0_res2_bn_beta, low_0_1_5_0_res2_bn_moving_mean, low_0_1_5_0_res2_bn_moving_var, low_0_1_5_0_res2_bn, low_0_1_5_0_res_skip_conv_weight, low_0_1_5_0_res_skip_conv, low_0_1_5_0_res_skip_bn_gamma, low_0_1_5_0_res_skip_bn_beta, low_0_1_5_0_res_skip_bn_moving_mean, low_0_1_5_0_res_skip_bn_moving_var, low_0_1_5_0_res_skip_bn, low_0_1_5_0_res_add, low_0_1_5_0_res_out, low_0_1_5_1_res1_conv_weight, low_0_1_5_1_res1_conv, low_0_1_5_1_res1_bn_gamma, low_0_1_5_1_res1_bn_beta, low_0_1_5_1_res1_bn_moving_mean, low_0_1_5_1_res1_bn_moving_var, low_0_1_5_1_res1_bn, low_0_1_5_1_res1_relu, low_0_1_5_1_res2_conv_weight, low_0_1_5_1_res2_conv, low_0_1_5_1_res2_bn_gamma, low_0_1_5_1_res2_bn_beta, low_0_1_5_1_res2_bn_moving_mean, low_0_1_5_1_res2_bn_moving_var, low_0_1_5_1_res2_bn, low_0_1_5_1_res_add, low_0_1_5_1_res_out, up_0_1_4_0_res1_conv_weight, up_0_1_4_0_res1_conv, up_0_1_4_0_res1_bn_gamma, up_0_1_4_0_res1_bn_beta, up_0_1_4_0_res1_bn_moving_mean, up_0_1_4_0_res1_bn_moving_var, up_0_1_4_0_res1_bn, up_0_1_4_0_res1_relu, up_0_1_4_0_res2_conv_weight, up_0_1_4_0_res2_conv, up_0_1_4_0_res2_bn_gamma, up_0_1_4_0_res2_bn_beta, up_0_1_4_0_res2_bn_moving_mean, up_0_1_4_0_res2_bn_moving_var, up_0_1_4_0_res2_bn, up_0_1_4_0_res_add, up_0_1_4_0_res_out, up_0_1_4_1_res1_conv_weight, up_0_1_4_1_res1_conv, up_0_1_4_1_res1_bn_gamma, up_0_1_4_1_res1_bn_beta, up_0_1_4_1_res1_bn_moving_mean, up_0_1_4_1_res1_bn_moving_var, up_0_1_4_1_res1_bn, up_0_1_4_1_res1_relu, up_0_1_4_1_res2_conv_weight, up_0_1_4_1_res2_conv, up_0_1_4_1_res2_bn_gamma, up_0_1_4_1_res2_bn_beta, up_0_1_4_1_res2_bn_moving_mean, up_0_1_4_1_res2_bn_moving_var, up_0_1_4_1_res2_bn, up_0_1_4_1_res_add, up_0_1_4_1_res_out, low_0_1_4_0_res1_conv_weight, low_0_1_4_0_res1_conv, low_0_1_4_0_res1_bn_gamma, low_0_1_4_0_res1_bn_beta, low_0_1_4_0_res1_bn_moving_mean, low_0_1_4_0_res1_bn_moving_var, low_0_1_4_0_res1_bn, low_0_1_4_0_res1_relu, low_0_1_4_0_res2_conv_weight, low_0_1_4_0_res2_conv, low_0_1_4_0_res2_bn_gamma, low_0_1_4_0_res2_bn_beta, low_0_1_4_0_res2_bn_moving_mean, low_0_1_4_0_res2_bn_moving_var, low_0_1_4_0_res2_bn, low_0_1_4_0_res_skip_conv_weight, low_0_1_4_0_res_skip_conv, low_0_1_4_0_res_skip_bn_gamma, low_0_1_4_0_res_skip_bn_beta, low_0_1_4_0_res_skip_bn_moving_mean, low_0_1_4_0_res_skip_bn_moving_var, low_0_1_4_0_res_skip_bn, low_0_1_4_0_res_add, low_0_1_4_0_res_out, low_0_1_4_1_res1_conv_weight, low_0_1_4_1_res1_conv, low_0_1_4_1_res1_bn_gamma, low_0_1_4_1_res1_bn_beta, low_0_1_4_1_res1_bn_moving_mean, low_0_1_4_1_res1_bn_moving_var, low_0_1_4_1_res1_bn, low_0_1_4_1_res1_relu, low_0_1_4_1_res2_conv_weight, low_0_1_4_1_res2_conv, low_0_1_4_1_res2_bn_gamma, low_0_1_4_1_res2_bn_beta, low_0_1_4_1_res2_bn_moving_mean, low_0_1_4_1_res2_bn_moving_var, low_0_1_4_1_res2_bn, low_0_1_4_1_res_add, low_0_1_4_1_res_out, up_0_1_3_0_res1_conv_weight, up_0_1_3_0_res1_conv, up_0_1_3_0_res1_bn_gamma, up_0_1_3_0_res1_bn_beta, up_0_1_3_0_res1_bn_moving_mean, up_0_1_3_0_res1_bn_moving_var, up_0_1_3_0_res1_bn, up_0_1_3_0_res1_relu, up_0_1_3_0_res2_conv_weight, up_0_1_3_0_res2_conv, up_0_1_3_0_res2_bn_gamma, up_0_1_3_0_res2_bn_beta, up_0_1_3_0_res2_bn_moving_mean, up_0_1_3_0_res2_bn_moving_var, up_0_1_3_0_res2_bn, up_0_1_3_0_res_add, up_0_1_3_0_res_out, up_0_1_3_1_res1_conv_weight, up_0_1_3_1_res1_conv, up_0_1_3_1_res1_bn_gamma, up_0_1_3_1_res1_bn_beta, up_0_1_3_1_res1_bn_moving_mean, up_0_1_3_1_res1_bn_moving_var, up_0_1_3_1_res1_bn, up_0_1_3_1_res1_relu, up_0_1_3_1_res2_conv_weight, up_0_1_3_1_res2_conv, up_0_1_3_1_res2_bn_gamma, up_0_1_3_1_res2_bn_beta, up_0_1_3_1_res2_bn_moving_mean, up_0_1_3_1_res2_bn_moving_var, up_0_1_3_1_res2_bn, up_0_1_3_1_res_add, up_0_1_3_1_res_out, low_0_1_3_0_res1_conv_weight, low_0_1_3_0_res1_conv, low_0_1_3_0_res1_bn_gamma, low_0_1_3_0_res1_bn_beta, low_0_1_3_0_res1_bn_moving_mean, low_0_1_3_0_res1_bn_moving_var, low_0_1_3_0_res1_bn, low_0_1_3_0_res1_relu, low_0_1_3_0_res2_conv_weight, low_0_1_3_0_res2_conv, low_0_1_3_0_res2_bn_gamma, low_0_1_3_0_res2_bn_beta, low_0_1_3_0_res2_bn_moving_mean, low_0_1_3_0_res2_bn_moving_var, low_0_1_3_0_res2_bn, low_0_1_3_0_res_skip_conv_weight, low_0_1_3_0_res_skip_conv, low_0_1_3_0_res_skip_bn_gamma, low_0_1_3_0_res_skip_bn_beta, low_0_1_3_0_res_skip_bn_moving_mean, low_0_1_3_0_res_skip_bn_moving_var, low_0_1_3_0_res_skip_bn, low_0_1_3_0_res_add, low_0_1_3_0_res_out, low_0_1_3_1_res1_conv_weight, low_0_1_3_1_res1_conv, low_0_1_3_1_res1_bn_gamma, low_0_1_3_1_res1_bn_beta, low_0_1_3_1_res1_bn_moving_mean, low_0_1_3_1_res1_bn_moving_var, low_0_1_3_1_res1_bn, low_0_1_3_1_res1_relu, low_0_1_3_1_res2_conv_weight, low_0_1_3_1_res2_conv, low_0_1_3_1_res2_bn_gamma, low_0_1_3_1_res2_bn_beta, low_0_1_3_1_res2_bn_moving_mean, low_0_1_3_1_res2_bn_moving_var, low_0_1_3_1_res2_bn, low_0_1_3_1_res_add, low_0_1_3_1_res_out, up_0_1_2_0_res1_conv_weight, up_0_1_2_0_res1_conv, up_0_1_2_0_res1_bn_gamma, up_0_1_2_0_res1_bn_beta, up_0_1_2_0_res1_bn_moving_mean, up_0_1_2_0_res1_bn_moving_var, up_0_1_2_0_res1_bn, up_0_1_2_0_res1_relu, up_0_1_2_0_res2_conv_weight, up_0_1_2_0_res2_conv, up_0_1_2_0_res2_bn_gamma, up_0_1_2_0_res2_bn_beta, up_0_1_2_0_res2_bn_moving_mean, up_0_1_2_0_res2_bn_moving_var, up_0_1_2_0_res2_bn, up_0_1_2_0_res_add, up_0_1_2_0_res_out, up_0_1_2_1_res1_conv_weight, up_0_1_2_1_res1_conv, up_0_1_2_1_res1_bn_gamma, up_0_1_2_1_res1_bn_beta, up_0_1_2_1_res1_bn_moving_mean, up_0_1_2_1_res1_bn_moving_var, up_0_1_2_1_res1_bn, up_0_1_2_1_res1_relu, up_0_1_2_1_res2_conv_weight, up_0_1_2_1_res2_conv, up_0_1_2_1_res2_bn_gamma, up_0_1_2_1_res2_bn_beta, up_0_1_2_1_res2_bn_moving_mean, up_0_1_2_1_res2_bn_moving_var, up_0_1_2_1_res2_bn, up_0_1_2_1_res_add, up_0_1_2_1_res_out, low_0_1_2_0_res1_conv_weight, low_0_1_2_0_res1_conv, low_0_1_2_0_res1_bn_gamma, low_0_1_2_0_res1_bn_beta, low_0_1_2_0_res1_bn_moving_mean, low_0_1_2_0_res1_bn_moving_var, low_0_1_2_0_res1_bn, low_0_1_2_0_res1_relu, low_0_1_2_0_res2_conv_weight, low_0_1_2_0_res2_conv, low_0_1_2_0_res2_bn_gamma, low_0_1_2_0_res2_bn_beta, low_0_1_2_0_res2_bn_moving_mean, low_0_1_2_0_res2_bn_moving_var, low_0_1_2_0_res2_bn, low_0_1_2_0_res_skip_conv_weight, low_0_1_2_0_res_skip_conv, low_0_1_2_0_res_skip_bn_gamma, low_0_1_2_0_res_skip_bn_beta, low_0_1_2_0_res_skip_bn_moving_mean, low_0_1_2_0_res_skip_bn_moving_var, low_0_1_2_0_res_skip_bn, low_0_1_2_0_res_add, low_0_1_2_0_res_out, low_0_1_2_1_res1_conv_weight, low_0_1_2_1_res1_conv, low_0_1_2_1_res1_bn_gamma, low_0_1_2_1_res1_bn_beta, low_0_1_2_1_res1_bn_moving_mean, low_0_1_2_1_res1_bn_moving_var, low_0_1_2_1_res1_bn, low_0_1_2_1_res1_relu, low_0_1_2_1_res2_conv_weight, low_0_1_2_1_res2_conv, low_0_1_2_1_res2_bn_gamma, low_0_1_2_1_res2_bn_beta, low_0_1_2_1_res2_bn_moving_mean, low_0_1_2_1_res2_bn_moving_var, low_0_1_2_1_res2_bn, low_0_1_2_1_res_add, low_0_1_2_1_res_out, up_0_1_1_0_res1_conv_weight, up_0_1_1_0_res1_conv, up_0_1_1_0_res1_bn_gamma, up_0_1_1_0_res1_bn_beta, up_0_1_1_0_res1_bn_moving_mean, up_0_1_1_0_res1_bn_moving_var, up_0_1_1_0_res1_bn, up_0_1_1_0_res1_relu, up_0_1_1_0_res2_conv_weight, up_0_1_1_0_res2_conv, up_0_1_1_0_res2_bn_gamma, up_0_1_1_0_res2_bn_beta, up_0_1_1_0_res2_bn_moving_mean, up_0_1_1_0_res2_bn_moving_var, up_0_1_1_0_res2_bn, up_0_1_1_0_res_add, up_0_1_1_0_res_out, up_0_1_1_1_res1_conv_weight, up_0_1_1_1_res1_conv, up_0_1_1_1_res1_bn_gamma, up_0_1_1_1_res1_bn_beta, up_0_1_1_1_res1_bn_moving_mean, up_0_1_1_1_res1_bn_moving_var, up_0_1_1_1_res1_bn, up_0_1_1_1_res1_relu, up_0_1_1_1_res2_conv_weight, up_0_1_1_1_res2_conv, up_0_1_1_1_res2_bn_gamma, up_0_1_1_1_res2_bn_beta, up_0_1_1_1_res2_bn_moving_mean, up_0_1_1_1_res2_bn_moving_var, up_0_1_1_1_res2_bn, up_0_1_1_1_res_add, up_0_1_1_1_res_out, low_0_1_1_0_res1_conv_weight, low_0_1_1_0_res1_conv, low_0_1_1_0_res1_bn_gamma, low_0_1_1_0_res1_bn_beta, low_0_1_1_0_res1_bn_moving_mean, low_0_1_1_0_res1_bn_moving_var, low_0_1_1_0_res1_bn, low_0_1_1_0_res1_relu, low_0_1_1_0_res2_conv_weight, low_0_1_1_0_res2_conv, low_0_1_1_0_res2_bn_gamma, low_0_1_1_0_res2_bn_beta, low_0_1_1_0_res2_bn_moving_mean, low_0_1_1_0_res2_bn_moving_var, low_0_1_1_0_res2_bn, low_0_1_1_0_res_skip_conv_weight, low_0_1_1_0_res_skip_conv, low_0_1_1_0_res_skip_bn_gamma, low_0_1_1_0_res_skip_bn_beta, low_0_1_1_0_res_skip_bn_moving_mean, low_0_1_1_0_res_skip_bn_moving_var, low_0_1_1_0_res_skip_bn, low_0_1_1_0_res_add, low_0_1_1_0_res_out, low_0_1_1_1_res1_conv_weight, low_0_1_1_1_res1_conv, low_0_1_1_1_res1_bn_gamma, low_0_1_1_1_res1_bn_beta, low_0_1_1_1_res1_bn_moving_mean, low_0_1_1_1_res1_bn_moving_var, low_0_1_1_1_res1_bn, low_0_1_1_1_res1_relu, low_0_1_1_1_res2_conv_weight, low_0_1_1_1_res2_conv, low_0_1_1_1_res2_bn_gamma, low_0_1_1_1_res2_bn_beta, low_0_1_1_1_res2_bn_moving_mean, low_0_1_1_1_res2_bn_moving_var, low_0_1_1_1_res2_bn, low_0_1_1_1_res_add, low_0_1_1_1_res_out, low_0_2_1_0_res1_conv_weight, low_0_2_1_0_res1_conv, low_0_2_1_0_res1_bn_gamma, low_0_2_1_0_res1_bn_beta, low_0_2_1_0_res1_bn_moving_mean, low_0_2_1_0_res1_bn_moving_var, low_0_2_1_0_res1_bn, low_0_2_1_0_res1_relu, low_0_2_1_0_res2_conv_weight, low_0_2_1_0_res2_conv, low_0_2_1_0_res2_bn_gamma, low_0_2_1_0_res2_bn_beta, low_0_2_1_0_res2_bn_moving_mean, low_0_2_1_0_res2_bn_moving_var, low_0_2_1_0_res2_bn, low_0_2_1_0_res_add, low_0_2_1_0_res_out, low_0_2_1_1_res1_conv_weight, low_0_2_1_1_res1_conv, low_0_2_1_1_res1_bn_gamma, low_0_2_1_1_res1_bn_beta, low_0_2_1_1_res1_bn_moving_mean, low_0_2_1_1_res1_bn_moving_var, low_0_2_1_1_res1_bn, low_0_2_1_1_res1_relu, low_0_2_1_1_res2_conv_weight, low_0_2_1_1_res2_conv, low_0_2_1_1_res2_bn_gamma, low_0_2_1_1_res2_bn_beta, low_0_2_1_1_res2_bn_moving_mean, low_0_2_1_1_res2_bn_moving_var, low_0_2_1_1_res2_bn, low_0_2_1_1_res_add, low_0_2_1_1_res_out, low_0_2_1_2_res1_conv_weight, low_0_2_1_2_res1_conv, low_0_2_1_2_res1_bn_gamma, low_0_2_1_2_res1_bn_beta, low_0_2_1_2_res1_bn_moving_mean, low_0_2_1_2_res1_bn_moving_var, low_0_2_1_2_res1_bn, low_0_2_1_2_res1_relu, low_0_2_1_2_res2_conv_weight, low_0_2_1_2_res2_conv, low_0_2_1_2_res2_bn_gamma, low_0_2_1_2_res2_bn_beta, low_0_2_1_2_res2_bn_moving_mean, low_0_2_1_2_res2_bn_moving_var, low_0_2_1_2_res2_bn, low_0_2_1_2_res_add, low_0_2_1_2_res_out, low_0_2_1_3_res1_conv_weight, low_0_2_1_3_res1_conv, low_0_2_1_3_res1_bn_gamma, low_0_2_1_3_res1_bn_beta, low_0_2_1_3_res1_bn_moving_mean, low_0_2_1_3_res1_bn_moving_var, low_0_2_1_3_res1_bn, low_0_2_1_3_res1_relu, low_0_2_1_3_res2_conv_weight, low_0_2_1_3_res2_conv, low_0_2_1_3_res2_bn_gamma, low_0_2_1_3_res2_bn_beta, low_0_2_1_3_res2_bn_moving_mean, low_0_2_1_3_res2_bn_moving_var, low_0_2_1_3_res2_bn, low_0_2_1_3_res_add, low_0_2_1_3_res_out, low_0_3_1_0_res1_conv_weight, low_0_3_1_0_res1_conv, low_0_3_1_0_res1_bn_gamma, low_0_3_1_0_res1_bn_beta, low_0_3_1_0_res1_bn_moving_mean, low_0_3_1_0_res1_bn_moving_var, low_0_3_1_0_res1_bn, low_0_3_1_0_res1_relu, low_0_3_1_0_res2_conv_weight, low_0_3_1_0_res2_conv, low_0_3_1_0_res2_bn_gamma, low_0_3_1_0_res2_bn_beta, low_0_3_1_0_res2_bn_moving_mean, low_0_3_1_0_res2_bn_moving_var, low_0_3_1_0_res2_bn, low_0_3_1_0_res_add, low_0_3_1_0_res_out, low_0_3_1_1_res1_conv_weight, low_0_3_1_1_res1_conv, low_0_3_1_1_res1_bn_gamma, low_0_3_1_1_res1_bn_beta, low_0_3_1_1_res1_bn_moving_mean, low_0_3_1_1_res1_bn_moving_var, low_0_3_1_1_res1_bn, low_0_3_1_1_res1_relu, low_0_3_1_1_res2_conv_weight, low_0_3_1_1_res2_conv, low_0_3_1_1_res2_bn_gamma, low_0_3_1_1_res2_bn_beta, low_0_3_1_1_res2_bn_moving_mean, low_0_3_1_1_res2_bn_moving_var, low_0_3_1_1_res2_bn, low_0_3_1_1_res_skip_conv_weight, low_0_3_1_1_res_skip_conv, low_0_3_1_1_res_skip_bn_gamma, low_0_3_1_1_res_skip_bn_beta, low_0_3_1_1_res_skip_bn_moving_mean, low_0_3_1_1_res_skip_bn_moving_var, low_0_3_1_1_res_skip_bn, low_0_3_1_1_res_add, low_0_3_1_1_res_out, up_0_2_1, _plus0, low_0_3_2_0_res1_conv_weight, low_0_3_2_0_res1_conv, low_0_3_2_0_res1_bn_gamma, low_0_3_2_0_res1_bn_beta, low_0_3_2_0_res1_bn_moving_mean, low_0_3_2_0_res1_bn_moving_var, low_0_3_2_0_res1_bn, low_0_3_2_0_res1_relu, low_0_3_2_0_res2_conv_weight, low_0_3_2_0_res2_conv, low_0_3_2_0_res2_bn_gamma, low_0_3_2_0_res2_bn_beta, low_0_3_2_0_res2_bn_moving_mean, low_0_3_2_0_res2_bn_moving_var, low_0_3_2_0_res2_bn, low_0_3_2_0_res_add, low_0_3_2_0_res_out, low_0_3_2_1_res1_conv_weight, low_0_3_2_1_res1_conv, low_0_3_2_1_res1_bn_gamma, low_0_3_2_1_res1_bn_beta, low_0_3_2_1_res1_bn_moving_mean, low_0_3_2_1_res1_bn_moving_var, low_0_3_2_1_res1_bn, low_0_3_2_1_res1_relu, low_0_3_2_1_res2_conv_weight, low_0_3_2_1_res2_conv, low_0_3_2_1_res2_bn_gamma, low_0_3_2_1_res2_bn_beta, low_0_3_2_1_res2_bn_moving_mean, low_0_3_2_1_res2_bn_moving_var, low_0_3_2_1_res2_bn, low_0_3_2_1_res_add, low_0_3_2_1_res_out, up_0_2_2, _plus1, low_0_3_3_0_res1_conv_weight, low_0_3_3_0_res1_conv, low_0_3_3_0_res1_bn_gamma, low_0_3_3_0_res1_bn_beta, low_0_3_3_0_res1_bn_moving_mean, low_0_3_3_0_res1_bn_moving_var, low_0_3_3_0_res1_bn, low_0_3_3_0_res1_relu, low_0_3_3_0_res2_conv_weight, low_0_3_3_0_res2_conv, low_0_3_3_0_res2_bn_gamma, low_0_3_3_0_res2_bn_beta, low_0_3_3_0_res2_bn_moving_mean, low_0_3_3_0_res2_bn_moving_var, low_0_3_3_0_res2_bn, low_0_3_3_0_res_add, low_0_3_3_0_res_out, low_0_3_3_1_res1_conv_weight, low_0_3_3_1_res1_conv, low_0_3_3_1_res1_bn_gamma, low_0_3_3_1_res1_bn_beta, low_0_3_3_1_res1_bn_moving_mean, low_0_3_3_1_res1_bn_moving_var, low_0_3_3_1_res1_bn, low_0_3_3_1_res1_relu, low_0_3_3_1_res2_conv_weight, low_0_3_3_1_res2_conv, low_0_3_3_1_res2_bn_gamma, low_0_3_3_1_res2_bn_beta, low_0_3_3_1_res2_bn_moving_mean, low_0_3_3_1_res2_bn_moving_var, low_0_3_3_1_res2_bn, low_0_3_3_1_res_add, low_0_3_3_1_res_out, up_0_2_3, _plus2, low_0_3_4_0_res1_conv_weight, low_0_3_4_0_res1_conv, low_0_3_4_0_res1_bn_gamma, low_0_3_4_0_res1_bn_beta, low_0_3_4_0_res1_bn_moving_mean, low_0_3_4_0_res1_bn_moving_var, low_0_3_4_0_res1_bn, low_0_3_4_0_res1_relu, low_0_3_4_0_res2_conv_weight, low_0_3_4_0_res2_conv, low_0_3_4_0_res2_bn_gamma, low_0_3_4_0_res2_bn_beta, low_0_3_4_0_res2_bn_moving_mean, low_0_3_4_0_res2_bn_moving_var, low_0_3_4_0_res2_bn, low_0_3_4_0_res_add, low_0_3_4_0_res_out, low_0_3_4_1_res1_conv_weight, low_0_3_4_1_res1_conv, low_0_3_4_1_res1_bn_gamma, low_0_3_4_1_res1_bn_beta, low_0_3_4_1_res1_bn_moving_mean, low_0_3_4_1_res1_bn_moving_var, low_0_3_4_1_res1_bn, low_0_3_4_1_res1_relu, low_0_3_4_1_res2_conv_weight, low_0_3_4_1_res2_conv, low_0_3_4_1_res2_bn_gamma, low_0_3_4_1_res2_bn_beta, low_0_3_4_1_res2_bn_moving_mean, low_0_3_4_1_res2_bn_moving_var, low_0_3_4_1_res2_bn, low_0_3_4_1_res_skip_conv_weight, low_0_3_4_1_res_skip_conv, low_0_3_4_1_res_skip_bn_gamma, low_0_3_4_1_res_skip_bn_beta, low_0_3_4_1_res_skip_bn_moving_mean, low_0_3_4_1_res_skip_bn_moving_var, low_0_3_4_1_res_skip_bn, low_0_3_4_1_res_add, low_0_3_4_1_res_out, up_0_2_4, _plus3, low_0_3_5_0_res1_conv_weight, low_0_3_5_0_res1_conv, low_0_3_5_0_res1_bn_gamma, low_0_3_5_0_res1_bn_beta, low_0_3_5_0_res1_bn_moving_mean, low_0_3_5_0_res1_bn_moving_var, low_0_3_5_0_res1_bn, low_0_3_5_0_res1_relu, low_0_3_5_0_res2_conv_weight, low_0_3_5_0_res2_conv, low_0_3_5_0_res2_bn_gamma, low_0_3_5_0_res2_bn_beta, low_0_3_5_0_res2_bn_moving_mean, low_0_3_5_0_res2_bn_moving_var, low_0_3_5_0_res2_bn, low_0_3_5_0_res_add, low_0_3_5_0_res_out, low_0_3_5_1_res1_conv_weight, low_0_3_5_1_res1_conv, low_0_3_5_1_res1_bn_gamma, low_0_3_5_1_res1_bn_beta, low_0_3_5_1_res1_bn_moving_mean, low_0_3_5_1_res1_bn_moving_var, low_0_3_5_1_res1_bn, low_0_3_5_1_res1_relu, low_0_3_5_1_res2_conv_weight, low_0_3_5_1_res2_conv, low_0_3_5_1_res2_bn_gamma, low_0_3_5_1_res2_bn_beta, low_0_3_5_1_res2_bn_moving_mean, low_0_3_5_1_res2_bn_moving_var, low_0_3_5_1_res2_bn, low_0_3_5_1_res_add, low_0_3_5_1_res_out, up_0_2_5, _plus4, cnv_0_conv_weight, cnv_0_conv, cnv_0_bn_gamma, cnv_0_bn_beta, cnv_0_bn_moving_mean, cnv_0_bn_moving_var, cnv_0_bn, cnv_0_relu, cnvs_0_0_weight, cnvs_0_0, cnvs_0_1_gamma, cnvs_0_1_beta, cnvs_0_1_moving_mean, cnvs_0_1_moving_var, cnvs_0_1, _plus9, inter_0_relu, inters_0_res1_conv_weight, inters_0_res1_conv, inters_0_res1_bn_gamma, inters_0_res1_bn_beta, inters_0_res1_bn_moving_mean, inters_0_res1_bn_moving_var, inters_0_res1_bn, inters_0_res1_relu, inters_0_res2_conv_weight, inters_0_res2_conv, inters_0_res2_bn_gamma, inters_0_res2_bn_beta, inters_0_res2_bn_moving_mean, inters_0_res2_bn_moving_var, inters_0_res2_bn, inters_0_res_add, inters_0_res_out, up_1_1_5_0_res1_conv_weight, up_1_1_5_0_res1_conv, up_1_1_5_0_res1_bn_gamma, up_1_1_5_0_res1_bn_beta, up_1_1_5_0_res1_bn_moving_mean, up_1_1_5_0_res1_bn_moving_var, up_1_1_5_0_res1_bn, up_1_1_5_0_res1_relu, up_1_1_5_0_res2_conv_weight, up_1_1_5_0_res2_conv, up_1_1_5_0_res2_bn_gamma, up_1_1_5_0_res2_bn_beta, up_1_1_5_0_res2_bn_moving_mean, up_1_1_5_0_res2_bn_moving_var, up_1_1_5_0_res2_bn, up_1_1_5_0_res_add, up_1_1_5_0_res_out, up_1_1_5_1_res1_conv_weight, up_1_1_5_1_res1_conv, up_1_1_5_1_res1_bn_gamma, up_1_1_5_1_res1_bn_beta, up_1_1_5_1_res1_bn_moving_mean, up_1_1_5_1_res1_bn_moving_var, up_1_1_5_1_res1_bn, up_1_1_5_1_res1_relu, up_1_1_5_1_res2_conv_weight, up_1_1_5_1_res2_conv, up_1_1_5_1_res2_bn_gamma, up_1_1_5_1_res2_bn_beta, up_1_1_5_1_res2_bn_moving_mean, up_1_1_5_1_res2_bn_moving_var, up_1_1_5_1_res2_bn, up_1_1_5_1_res_add, up_1_1_5_1_res_out, low_1_1_5_0_res1_conv_weight, low_1_1_5_0_res1_conv, low_1_1_5_0_res1_bn_gamma, low_1_1_5_0_res1_bn_beta, low_1_1_5_0_res1_bn_moving_mean, low_1_1_5_0_res1_bn_moving_var, low_1_1_5_0_res1_bn, low_1_1_5_0_res1_relu, low_1_1_5_0_res2_conv_weight, low_1_1_5_0_res2_conv, low_1_1_5_0_res2_bn_gamma, low_1_1_5_0_res2_bn_beta, low_1_1_5_0_res2_bn_moving_mean, low_1_1_5_0_res2_bn_moving_var, low_1_1_5_0_res2_bn, low_1_1_5_0_res_skip_conv_weight, low_1_1_5_0_res_skip_conv, low_1_1_5_0_res_skip_bn_gamma, low_1_1_5_0_res_skip_bn_beta, low_1_1_5_0_res_skip_bn_moving_mean, low_1_1_5_0_res_skip_bn_moving_var, low_1_1_5_0_res_skip_bn, low_1_1_5_0_res_add, low_1_1_5_0_res_out, low_1_1_5_1_res1_conv_weight, low_1_1_5_1_res1_conv, low_1_1_5_1_res1_bn_gamma, low_1_1_5_1_res1_bn_beta, low_1_1_5_1_res1_bn_moving_mean, low_1_1_5_1_res1_bn_moving_var, low_1_1_5_1_res1_bn, low_1_1_5_1_res1_relu, low_1_1_5_1_res2_conv_weight, low_1_1_5_1_res2_conv, low_1_1_5_1_res2_bn_gamma, low_1_1_5_1_res2_bn_beta, low_1_1_5_1_res2_bn_moving_mean, low_1_1_5_1_res2_bn_moving_var, low_1_1_5_1_res2_bn, low_1_1_5_1_res_add, low_1_1_5_1_res_out, up_1_1_4_0_res1_conv_weight, up_1_1_4_0_res1_conv, up_1_1_4_0_res1_bn_gamma, up_1_1_4_0_res1_bn_beta, up_1_1_4_0_res1_bn_moving_mean, up_1_1_4_0_res1_bn_moving_var, up_1_1_4_0_res1_bn, up_1_1_4_0_res1_relu, up_1_1_4_0_res2_conv_weight, up_1_1_4_0_res2_conv, up_1_1_4_0_res2_bn_gamma, up_1_1_4_0_res2_bn_beta, up_1_1_4_0_res2_bn_moving_mean, up_1_1_4_0_res2_bn_moving_var, up_1_1_4_0_res2_bn, up_1_1_4_0_res_add, up_1_1_4_0_res_out, up_1_1_4_1_res1_conv_weight, up_1_1_4_1_res1_conv, up_1_1_4_1_res1_bn_gamma, up_1_1_4_1_res1_bn_beta, up_1_1_4_1_res1_bn_moving_mean, up_1_1_4_1_res1_bn_moving_var, up_1_1_4_1_res1_bn, up_1_1_4_1_res1_relu, up_1_1_4_1_res2_conv_weight, up_1_1_4_1_res2_conv, up_1_1_4_1_res2_bn_gamma, up_1_1_4_1_res2_bn_beta, up_1_1_4_1_res2_bn_moving_mean, up_1_1_4_1_res2_bn_moving_var, up_1_1_4_1_res2_bn, up_1_1_4_1_res_add, up_1_1_4_1_res_out, low_1_1_4_0_res1_conv_weight, low_1_1_4_0_res1_conv, low_1_1_4_0_res1_bn_gamma, low_1_1_4_0_res1_bn_beta, low_1_1_4_0_res1_bn_moving_mean, low_1_1_4_0_res1_bn_moving_var, low_1_1_4_0_res1_bn, low_1_1_4_0_res1_relu, low_1_1_4_0_res2_conv_weight, low_1_1_4_0_res2_conv, low_1_1_4_0_res2_bn_gamma, low_1_1_4_0_res2_bn_beta, low_1_1_4_0_res2_bn_moving_mean, low_1_1_4_0_res2_bn_moving_var, low_1_1_4_0_res2_bn, low_1_1_4_0_res_skip_conv_weight, low_1_1_4_0_res_skip_conv, low_1_1_4_0_res_skip_bn_gamma, low_1_1_4_0_res_skip_bn_beta, low_1_1_4_0_res_skip_bn_moving_mean, low_1_1_4_0_res_skip_bn_moving_var, low_1_1_4_0_res_skip_bn, low_1_1_4_0_res_add, low_1_1_4_0_res_out, low_1_1_4_1_res1_conv_weight, low_1_1_4_1_res1_conv, low_1_1_4_1_res1_bn_gamma, low_1_1_4_1_res1_bn_beta, low_1_1_4_1_res1_bn_moving_mean, low_1_1_4_1_res1_bn_moving_var, low_1_1_4_1_res1_bn, low_1_1_4_1_res1_relu, low_1_1_4_1_res2_conv_weight, low_1_1_4_1_res2_conv, low_1_1_4_1_res2_bn_gamma, low_1_1_4_1_res2_bn_beta, low_1_1_4_1_res2_bn_moving_mean, low_1_1_4_1_res2_bn_moving_var, low_1_1_4_1_res2_bn, low_1_1_4_1_res_add, low_1_1_4_1_res_out, up_1_1_3_0_res1_conv_weight, up_1_1_3_0_res1_conv, up_1_1_3_0_res1_bn_gamma, up_1_1_3_0_res1_bn_beta, up_1_1_3_0_res1_bn_moving_mean, up_1_1_3_0_res1_bn_moving_var, up_1_1_3_0_res1_bn, up_1_1_3_0_res1_relu, up_1_1_3_0_res2_conv_weight, up_1_1_3_0_res2_conv, up_1_1_3_0_res2_bn_gamma, up_1_1_3_0_res2_bn_beta, up_1_1_3_0_res2_bn_moving_mean, up_1_1_3_0_res2_bn_moving_var, up_1_1_3_0_res2_bn, up_1_1_3_0_res_add, up_1_1_3_0_res_out, up_1_1_3_1_res1_conv_weight, up_1_1_3_1_res1_conv, up_1_1_3_1_res1_bn_gamma, up_1_1_3_1_res1_bn_beta, up_1_1_3_1_res1_bn_moving_mean, up_1_1_3_1_res1_bn_moving_var, up_1_1_3_1_res1_bn, up_1_1_3_1_res1_relu, up_1_1_3_1_res2_conv_weight, up_1_1_3_1_res2_conv, up_1_1_3_1_res2_bn_gamma, up_1_1_3_1_res2_bn_beta, up_1_1_3_1_res2_bn_moving_mean, up_1_1_3_1_res2_bn_moving_var, up_1_1_3_1_res2_bn, up_1_1_3_1_res_add, up_1_1_3_1_res_out, low_1_1_3_0_res1_conv_weight, low_1_1_3_0_res1_conv, low_1_1_3_0_res1_bn_gamma, low_1_1_3_0_res1_bn_beta, low_1_1_3_0_res1_bn_moving_mean, low_1_1_3_0_res1_bn_moving_var, low_1_1_3_0_res1_bn, low_1_1_3_0_res1_relu, low_1_1_3_0_res2_conv_weight, low_1_1_3_0_res2_conv, low_1_1_3_0_res2_bn_gamma, low_1_1_3_0_res2_bn_beta, low_1_1_3_0_res2_bn_moving_mean, low_1_1_3_0_res2_bn_moving_var, low_1_1_3_0_res2_bn, low_1_1_3_0_res_skip_conv_weight, low_1_1_3_0_res_skip_conv, low_1_1_3_0_res_skip_bn_gamma, low_1_1_3_0_res_skip_bn_beta, low_1_1_3_0_res_skip_bn_moving_mean, low_1_1_3_0_res_skip_bn_moving_var, low_1_1_3_0_res_skip_bn, low_1_1_3_0_res_add, low_1_1_3_0_res_out, low_1_1_3_1_res1_conv_weight, low_1_1_3_1_res1_conv, low_1_1_3_1_res1_bn_gamma, low_1_1_3_1_res1_bn_beta, low_1_1_3_1_res1_bn_moving_mean, low_1_1_3_1_res1_bn_moving_var, low_1_1_3_1_res1_bn, low_1_1_3_1_res1_relu, low_1_1_3_1_res2_conv_weight, low_1_1_3_1_res2_conv, low_1_1_3_1_res2_bn_gamma, low_1_1_3_1_res2_bn_beta, low_1_1_3_1_res2_bn_moving_mean, low_1_1_3_1_res2_bn_moving_var, low_1_1_3_1_res2_bn, low_1_1_3_1_res_add, low_1_1_3_1_res_out, up_1_1_2_0_res1_conv_weight, up_1_1_2_0_res1_conv, up_1_1_2_0_res1_bn_gamma, up_1_1_2_0_res1_bn_beta, up_1_1_2_0_res1_bn_moving_mean, up_1_1_2_0_res1_bn_moving_var, up_1_1_2_0_res1_bn, up_1_1_2_0_res1_relu, up_1_1_2_0_res2_conv_weight, up_1_1_2_0_res2_conv, up_1_1_2_0_res2_bn_gamma, up_1_1_2_0_res2_bn_beta, up_1_1_2_0_res2_bn_moving_mean, up_1_1_2_0_res2_bn_moving_var, up_1_1_2_0_res2_bn, up_1_1_2_0_res_add, up_1_1_2_0_res_out, up_1_1_2_1_res1_conv_weight, up_1_1_2_1_res1_conv, up_1_1_2_1_res1_bn_gamma, up_1_1_2_1_res1_bn_beta, up_1_1_2_1_res1_bn_moving_mean, up_1_1_2_1_res1_bn_moving_var, up_1_1_2_1_res1_bn, up_1_1_2_1_res1_relu, up_1_1_2_1_res2_conv_weight, up_1_1_2_1_res2_conv, up_1_1_2_1_res2_bn_gamma, up_1_1_2_1_res2_bn_beta, up_1_1_2_1_res2_bn_moving_mean, up_1_1_2_1_res2_bn_moving_var, up_1_1_2_1_res2_bn, up_1_1_2_1_res_add, up_1_1_2_1_res_out, low_1_1_2_0_res1_conv_weight, low_1_1_2_0_res1_conv, low_1_1_2_0_res1_bn_gamma, low_1_1_2_0_res1_bn_beta, low_1_1_2_0_res1_bn_moving_mean, low_1_1_2_0_res1_bn_moving_var, low_1_1_2_0_res1_bn, low_1_1_2_0_res1_relu, low_1_1_2_0_res2_conv_weight, low_1_1_2_0_res2_conv, low_1_1_2_0_res2_bn_gamma, low_1_1_2_0_res2_bn_beta, low_1_1_2_0_res2_bn_moving_mean, low_1_1_2_0_res2_bn_moving_var, low_1_1_2_0_res2_bn, low_1_1_2_0_res_skip_conv_weight, low_1_1_2_0_res_skip_conv, low_1_1_2_0_res_skip_bn_gamma, low_1_1_2_0_res_skip_bn_beta, low_1_1_2_0_res_skip_bn_moving_mean, low_1_1_2_0_res_skip_bn_moving_var, low_1_1_2_0_res_skip_bn, low_1_1_2_0_res_add, low_1_1_2_0_res_out, low_1_1_2_1_res1_conv_weight, low_1_1_2_1_res1_conv, low_1_1_2_1_res1_bn_gamma, low_1_1_2_1_res1_bn_beta, low_1_1_2_1_res1_bn_moving_mean, low_1_1_2_1_res1_bn_moving_var, low_1_1_2_1_res1_bn, low_1_1_2_1_res1_relu, low_1_1_2_1_res2_conv_weight, low_1_1_2_1_res2_conv, low_1_1_2_1_res2_bn_gamma, low_1_1_2_1_res2_bn_beta, low_1_1_2_1_res2_bn_moving_mean, low_1_1_2_1_res2_bn_moving_var, low_1_1_2_1_res2_bn, low_1_1_2_1_res_add, low_1_1_2_1_res_out, up_1_1_1_0_res1_conv_weight, up_1_1_1_0_res1_conv, up_1_1_1_0_res1_bn_gamma, up_1_1_1_0_res1_bn_beta, up_1_1_1_0_res1_bn_moving_mean, up_1_1_1_0_res1_bn_moving_var, up_1_1_1_0_res1_bn, up_1_1_1_0_res1_relu, up_1_1_1_0_res2_conv_weight, up_1_1_1_0_res2_conv, up_1_1_1_0_res2_bn_gamma, up_1_1_1_0_res2_bn_beta, up_1_1_1_0_res2_bn_moving_mean, up_1_1_1_0_res2_bn_moving_var, up_1_1_1_0_res2_bn, up_1_1_1_0_res_add, up_1_1_1_0_res_out, up_1_1_1_1_res1_conv_weight, up_1_1_1_1_res1_conv, up_1_1_1_1_res1_bn_gamma, up_1_1_1_1_res1_bn_beta, up_1_1_1_1_res1_bn_moving_mean, up_1_1_1_1_res1_bn_moving_var, up_1_1_1_1_res1_bn, up_1_1_1_1_res1_relu, up_1_1_1_1_res2_conv_weight, up_1_1_1_1_res2_conv, up_1_1_1_1_res2_bn_gamma, up_1_1_1_1_res2_bn_beta, up_1_1_1_1_res2_bn_moving_mean, up_1_1_1_1_res2_bn_moving_var, up_1_1_1_1_res2_bn, up_1_1_1_1_res_add, up_1_1_1_1_res_out, low_1_1_1_0_res1_conv_weight, low_1_1_1_0_res1_conv, low_1_1_1_0_res1_bn_gamma, low_1_1_1_0_res1_bn_beta, low_1_1_1_0_res1_bn_moving_mean, low_1_1_1_0_res1_bn_moving_var, low_1_1_1_0_res1_bn, low_1_1_1_0_res1_relu, low_1_1_1_0_res2_conv_weight, low_1_1_1_0_res2_conv, low_1_1_1_0_res2_bn_gamma, low_1_1_1_0_res2_bn_beta, low_1_1_1_0_res2_bn_moving_mean, low_1_1_1_0_res2_bn_moving_var, low_1_1_1_0_res2_bn, low_1_1_1_0_res_skip_conv_weight, low_1_1_1_0_res_skip_conv, low_1_1_1_0_res_skip_bn_gamma, low_1_1_1_0_res_skip_bn_beta, low_1_1_1_0_res_skip_bn_moving_mean, low_1_1_1_0_res_skip_bn_moving_var, low_1_1_1_0_res_skip_bn, low_1_1_1_0_res_add, low_1_1_1_0_res_out, low_1_1_1_1_res1_conv_weight, low_1_1_1_1_res1_conv, low_1_1_1_1_res1_bn_gamma, low_1_1_1_1_res1_bn_beta, low_1_1_1_1_res1_bn_moving_mean, low_1_1_1_1_res1_bn_moving_var, low_1_1_1_1_res1_bn, low_1_1_1_1_res1_relu, low_1_1_1_1_res2_conv_weight, low_1_1_1_1_res2_conv, low_1_1_1_1_res2_bn_gamma, low_1_1_1_1_res2_bn_beta, low_1_1_1_1_res2_bn_moving_mean, low_1_1_1_1_res2_bn_moving_var, low_1_1_1_1_res2_bn, low_1_1_1_1_res_add, low_1_1_1_1_res_out, low_1_2_1_0_res1_conv_weight, low_1_2_1_0_res1_conv, low_1_2_1_0_res1_bn_gamma, low_1_2_1_0_res1_bn_beta, low_1_2_1_0_res1_bn_moving_mean, low_1_2_1_0_res1_bn_moving_var, low_1_2_1_0_res1_bn, low_1_2_1_0_res1_relu, low_1_2_1_0_res2_conv_weight, low_1_2_1_0_res2_conv, low_1_2_1_0_res2_bn_gamma, low_1_2_1_0_res2_bn_beta, low_1_2_1_0_res2_bn_moving_mean, low_1_2_1_0_res2_bn_moving_var, low_1_2_1_0_res2_bn, low_1_2_1_0_res_add, low_1_2_1_0_res_out, low_1_2_1_1_res1_conv_weight, low_1_2_1_1_res1_conv, low_1_2_1_1_res1_bn_gamma, low_1_2_1_1_res1_bn_beta, low_1_2_1_1_res1_bn_moving_mean, low_1_2_1_1_res1_bn_moving_var, low_1_2_1_1_res1_bn, low_1_2_1_1_res1_relu, low_1_2_1_1_res2_conv_weight, low_1_2_1_1_res2_conv, low_1_2_1_1_res2_bn_gamma, low_1_2_1_1_res2_bn_beta, low_1_2_1_1_res2_bn_moving_mean, low_1_2_1_1_res2_bn_moving_var, low_1_2_1_1_res2_bn, low_1_2_1_1_res_add, low_1_2_1_1_res_out, low_1_2_1_2_res1_conv_weight, low_1_2_1_2_res1_conv, low_1_2_1_2_res1_bn_gamma, low_1_2_1_2_res1_bn_beta, low_1_2_1_2_res1_bn_moving_mean, low_1_2_1_2_res1_bn_moving_var, low_1_2_1_2_res1_bn, low_1_2_1_2_res1_relu, low_1_2_1_2_res2_conv_weight, low_1_2_1_2_res2_conv, low_1_2_1_2_res2_bn_gamma, low_1_2_1_2_res2_bn_beta, low_1_2_1_2_res2_bn_moving_mean, low_1_2_1_2_res2_bn_moving_var, low_1_2_1_2_res2_bn, low_1_2_1_2_res_add, low_1_2_1_2_res_out, low_1_2_1_3_res1_conv_weight, low_1_2_1_3_res1_conv, low_1_2_1_3_res1_bn_gamma, low_1_2_1_3_res1_bn_beta, low_1_2_1_3_res1_bn_moving_mean, low_1_2_1_3_res1_bn_moving_var, low_1_2_1_3_res1_bn, low_1_2_1_3_res1_relu, low_1_2_1_3_res2_conv_weight, low_1_2_1_3_res2_conv, low_1_2_1_3_res2_bn_gamma, low_1_2_1_3_res2_bn_beta, low_1_2_1_3_res2_bn_moving_mean, low_1_2_1_3_res2_bn_moving_var, low_1_2_1_3_res2_bn, low_1_2_1_3_res_add, low_1_2_1_3_res_out, low_1_3_1_0_res1_conv_weight, low_1_3_1_0_res1_conv, low_1_3_1_0_res1_bn_gamma, low_1_3_1_0_res1_bn_beta, low_1_3_1_0_res1_bn_moving_mean, low_1_3_1_0_res1_bn_moving_var, low_1_3_1_0_res1_bn, low_1_3_1_0_res1_relu, low_1_3_1_0_res2_conv_weight, low_1_3_1_0_res2_conv, low_1_3_1_0_res2_bn_gamma, low_1_3_1_0_res2_bn_beta, low_1_3_1_0_res2_bn_moving_mean, low_1_3_1_0_res2_bn_moving_var, low_1_3_1_0_res2_bn, low_1_3_1_0_res_add, low_1_3_1_0_res_out, low_1_3_1_1_res1_conv_weight, low_1_3_1_1_res1_conv, low_1_3_1_1_res1_bn_gamma, low_1_3_1_1_res1_bn_beta, low_1_3_1_1_res1_bn_moving_mean, low_1_3_1_1_res1_bn_moving_var, low_1_3_1_1_res1_bn, low_1_3_1_1_res1_relu, low_1_3_1_1_res2_conv_weight, low_1_3_1_1_res2_conv, low_1_3_1_1_res2_bn_gamma, low_1_3_1_1_res2_bn_beta, low_1_3_1_1_res2_bn_moving_mean, low_1_3_1_1_res2_bn_moving_var, low_1_3_1_1_res2_bn, low_1_3_1_1_res_skip_conv_weight, low_1_3_1_1_res_skip_conv, low_1_3_1_1_res_skip_bn_gamma, low_1_3_1_1_res_skip_bn_beta, low_1_3_1_1_res_skip_bn_moving_mean, low_1_3_1_1_res_skip_bn_moving_var, low_1_3_1_1_res_skip_bn, low_1_3_1_1_res_add, low_1_3_1_1_res_out, up_1_2_1, _plus10, low_1_3_2_0_res1_conv_weight, low_1_3_2_0_res1_conv, low_1_3_2_0_res1_bn_gamma, low_1_3_2_0_res1_bn_beta, low_1_3_2_0_res1_bn_moving_mean, low_1_3_2_0_res1_bn_moving_var, low_1_3_2_0_res1_bn, low_1_3_2_0_res1_relu, low_1_3_2_0_res2_conv_weight, low_1_3_2_0_res2_conv, low_1_3_2_0_res2_bn_gamma, low_1_3_2_0_res2_bn_beta, low_1_3_2_0_res2_bn_moving_mean, low_1_3_2_0_res2_bn_moving_var, low_1_3_2_0_res2_bn, low_1_3_2_0_res_add, low_1_3_2_0_res_out, low_1_3_2_1_res1_conv_weight, low_1_3_2_1_res1_conv, low_1_3_2_1_res1_bn_gamma, low_1_3_2_1_res1_bn_beta, low_1_3_2_1_res1_bn_moving_mean, low_1_3_2_1_res1_bn_moving_var, low_1_3_2_1_res1_bn, low_1_3_2_1_res1_relu, low_1_3_2_1_res2_conv_weight, low_1_3_2_1_res2_conv, low_1_3_2_1_res2_bn_gamma, low_1_3_2_1_res2_bn_beta, low_1_3_2_1_res2_bn_moving_mean, low_1_3_2_1_res2_bn_moving_var, low_1_3_2_1_res2_bn, low_1_3_2_1_res_add, low_1_3_2_1_res_out, up_1_2_2, _plus11, low_1_3_3_0_res1_conv_weight, low_1_3_3_0_res1_conv, low_1_3_3_0_res1_bn_gamma, low_1_3_3_0_res1_bn_beta, low_1_3_3_0_res1_bn_moving_mean, low_1_3_3_0_res1_bn_moving_var, low_1_3_3_0_res1_bn, low_1_3_3_0_res1_relu, low_1_3_3_0_res2_conv_weight, low_1_3_3_0_res2_conv, low_1_3_3_0_res2_bn_gamma, low_1_3_3_0_res2_bn_beta, low_1_3_3_0_res2_bn_moving_mean, low_1_3_3_0_res2_bn_moving_var, low_1_3_3_0_res2_bn, low_1_3_3_0_res_add, low_1_3_3_0_res_out, low_1_3_3_1_res1_conv_weight, low_1_3_3_1_res1_conv, low_1_3_3_1_res1_bn_gamma, low_1_3_3_1_res1_bn_beta, low_1_3_3_1_res1_bn_moving_mean, low_1_3_3_1_res1_bn_moving_var, low_1_3_3_1_res1_bn, low_1_3_3_1_res1_relu, low_1_3_3_1_res2_conv_weight, low_1_3_3_1_res2_conv, low_1_3_3_1_res2_bn_gamma, low_1_3_3_1_res2_bn_beta, low_1_3_3_1_res2_bn_moving_mean, low_1_3_3_1_res2_bn_moving_var, low_1_3_3_1_res2_bn, low_1_3_3_1_res_add, low_1_3_3_1_res_out, up_1_2_3, _plus12, low_1_3_4_0_res1_conv_weight, low_1_3_4_0_res1_conv, low_1_3_4_0_res1_bn_gamma, low_1_3_4_0_res1_bn_beta, low_1_3_4_0_res1_bn_moving_mean, low_1_3_4_0_res1_bn_moving_var, low_1_3_4_0_res1_bn, low_1_3_4_0_res1_relu, low_1_3_4_0_res2_conv_weight, low_1_3_4_0_res2_conv, low_1_3_4_0_res2_bn_gamma, low_1_3_4_0_res2_bn_beta, low_1_3_4_0_res2_bn_moving_mean, low_1_3_4_0_res2_bn_moving_var, low_1_3_4_0_res2_bn, low_1_3_4_0_res_add, low_1_3_4_0_res_out, low_1_3_4_1_res1_conv_weight, low_1_3_4_1_res1_conv, low_1_3_4_1_res1_bn_gamma, low_1_3_4_1_res1_bn_beta, low_1_3_4_1_res1_bn_moving_mean, low_1_3_4_1_res1_bn_moving_var, low_1_3_4_1_res1_bn, low_1_3_4_1_res1_relu, low_1_3_4_1_res2_conv_weight, low_1_3_4_1_res2_conv, low_1_3_4_1_res2_bn_gamma, low_1_3_4_1_res2_bn_beta, low_1_3_4_1_res2_bn_moving_mean, low_1_3_4_1_res2_bn_moving_var, low_1_3_4_1_res2_bn, low_1_3_4_1_res_skip_conv_weight, low_1_3_4_1_res_skip_conv, low_1_3_4_1_res_skip_bn_gamma, low_1_3_4_1_res_skip_bn_beta, low_1_3_4_1_res_skip_bn_moving_mean, low_1_3_4_1_res_skip_bn_moving_var, low_1_3_4_1_res_skip_bn, low_1_3_4_1_res_add, low_1_3_4_1_res_out, up_1_2_4, _plus13, low_1_3_5_0_res1_conv_weight, low_1_3_5_0_res1_conv, low_1_3_5_0_res1_bn_gamma, low_1_3_5_0_res1_bn_beta, low_1_3_5_0_res1_bn_moving_mean, low_1_3_5_0_res1_bn_moving_var, low_1_3_5_0_res1_bn, low_1_3_5_0_res1_relu, low_1_3_5_0_res2_conv_weight, low_1_3_5_0_res2_conv, low_1_3_5_0_res2_bn_gamma, low_1_3_5_0_res2_bn_beta, low_1_3_5_0_res2_bn_moving_mean, low_1_3_5_0_res2_bn_moving_var, low_1_3_5_0_res2_bn, low_1_3_5_0_res_add, low_1_3_5_0_res_out, low_1_3_5_1_res1_conv_weight, low_1_3_5_1_res1_conv, low_1_3_5_1_res1_bn_gamma, low_1_3_5_1_res1_bn_beta, low_1_3_5_1_res1_bn_moving_mean, low_1_3_5_1_res1_bn_moving_var, low_1_3_5_1_res1_bn, low_1_3_5_1_res1_relu, low_1_3_5_1_res2_conv_weight, low_1_3_5_1_res2_conv, low_1_3_5_1_res2_bn_gamma, low_1_3_5_1_res2_bn_beta, low_1_3_5_1_res2_bn_moving_mean, low_1_3_5_1_res2_bn_moving_var, low_1_3_5_1_res2_bn, low_1_3_5_1_res_add, low_1_3_5_1_res_out, up_1_2_5, _plus14, cnv_1_conv_weight, cnv_1_conv, cnv_1_bn_gamma, cnv_1_bn_beta, cnv_1_bn_moving_mean, cnv_1_bn_moving_var, cnv_1_bn, cnv_1_relu, tl_1_conv1_weight, tl_1_conv1, tl_1_bn1_gamma, tl_1_bn1_beta, tl_1_bn1_moving_mean, tl_1_bn1_moving_var, tl_1_bn1, tl_1_p1_conv1_conv_weight, tl_1_p1_conv1_conv, tl_1_p1_conv1_bn_gamma, tl_1_p1_conv1_bn_beta, tl_1_p1_conv1_bn_moving_mean, tl_1_p1_conv1_bn_moving_var, tl_1_p1_conv1_bn, tl_1_p1_conv1_relu, corner_pooling_t_1, tl_1_p2_conv1_conv_weight, tl_1_p2_conv1_conv, tl_1_p2_conv1_bn_gamma, tl_1_p2_conv1_bn_beta, tl_1_p2_conv1_bn_moving_mean, tl_1_p2_conv1_bn_moving_var, tl_1_p2_conv1_bn, tl_1_p2_conv1_relu, corner_pooling_l_1, _plus15, tl_1_p_conv1_weight, tl_1_p_conv1, tl_1_p_bn1_gamma, tl_1_p_bn1_beta, tl_1_p_bn1_moving_mean, tl_1_p_bn1_moving_var, tl_1_p_bn1, _plus16, tl_1_relu, tl_1_conv2_conv_weight, tl_1_conv2_conv, tl_1_conv2_bn_gamma, tl_1_conv2_bn_beta, tl_1_conv2_bn_moving_mean, tl_1_conv2_bn_moving_var, tl_1_conv2_bn, tl_1_conv2_relu, tl_heats_1_0_conv_weight, tl_heats_1_0_conv_bias, tl_heats_1_0_conv, tl_heats_1_0_relu, tl_heats_1_1_weight, tl_heats_1_1_bias, tl_heats_1_1, blockgrad0, br_1_conv1_weight, br_1_conv1, br_1_bn1_gamma, br_1_bn1_beta, br_1_bn1_moving_mean, br_1_bn1_moving_var, br_1_bn1, br_1_p1_conv1_conv_weight, br_1_p1_conv1_conv, br_1_p1_conv1_bn_gamma, br_1_p1_conv1_bn_beta, br_1_p1_conv1_bn_moving_mean, br_1_p1_conv1_bn_moving_var, br_1_p1_conv1_bn, br_1_p1_conv1_relu, corner_pooling_b_1, br_1_p2_conv1_conv_weight, br_1_p2_conv1_conv, br_1_p2_conv1_bn_gamma, br_1_p2_conv1_bn_beta, br_1_p2_conv1_bn_moving_mean, br_1_p2_conv1_bn_moving_var, br_1_p2_conv1_bn, br_1_p2_conv1_relu, corner_pooling_r_1, _plus17, br_1_p_conv1_weight, br_1_p_conv1, br_1_p_bn1_gamma, br_1_p_bn1_beta, br_1_p_bn1_moving_mean, br_1_p_bn1_moving_var, br_1_p_bn1, _plus18, br_1_relu, br_1_conv2_conv_weight, br_1_conv2_conv, br_1_conv2_bn_gamma, br_1_conv2_bn_beta, br_1_conv2_bn_moving_mean, br_1_conv2_bn_moving_var, br_1_conv2_bn, br_1_conv2_relu, br_heats_1_0_conv_weight, br_heats_1_0_conv_bias, br_heats_1_0_conv, br_heats_1_0_relu, br_heats_1_1_weight, br_heats_1_1_bias, br_heats_1_1, blockgrad1, tl_tags_1_0_conv_weight, tl_tags_1_0_conv_bias, tl_tags_1_0_conv, tl_tags_1_0_relu, tl_tags_1_1_weight, tl_tags_1_1_bias, tl_tags_1_1, blockgrad2, br_tags_1_0_conv_weight, br_tags_1_0_conv_bias, br_tags_1_0_conv, br_tags_1_0_relu, br_tags_1_1_weight, br_tags_1_1_bias, br_tags_1_1, blockgrad3, tl_regrs_1_0_conv_weight, tl_regrs_1_0_conv_bias, tl_regrs_1_0_conv, tl_regrs_1_0_relu, tl_regrs_1_1_weight, tl_regrs_1_1_bias, tl_regrs_1_1, blockgrad4, br_regrs_1_0_conv_weight, br_regrs_1_0_conv_bias, br_regrs_1_0_conv, br_regrs_1_0_relu, br_regrs_1_1_weight, br_regrs_1_1_bias, br_regrs_1_1, blockgrad5]>"
      ]
     },
     "execution_count": 4,
     "metadata": {},
     "output_type": "execute_result"
    }
   ],
   "source": [
    "sym = CornerNet(is_train = False, cfgs = cfg['network'])\n",
    "sym.get_internals()"
   ]
  },
  {
   "cell_type": "code",
   "execution_count": 12,
   "metadata": {},
   "outputs": [
    {
     "data": {
      "text/plain": [
       "<Symbol _powerscalar0>"
      ]
     },
     "execution_count": 12,
     "metadata": {},
     "output_type": "execute_result"
    }
   ],
   "source": [
    "b"
   ]
  },
  {
   "cell_type": "code",
   "execution_count": 13,
   "metadata": {},
   "outputs": [
    {
     "name": "stderr",
     "output_type": "stream",
     "text": [
      "/mnt/data-1/data/jiajie.tang/miniconda3/envs/gluon/lib/python3.6/site-packages/mxnet/module/base_module.py:55: UserWarning: \u001b[91mYou created Module with Module(..., label_names=['softmax_label']) but input with name 'softmax_label' is not found in symbol.list_arguments(). Did you mean one of:\n",
      "\ta\u001b[0m\n",
      "  warnings.warn(msg)\n"
     ]
    }
   ],
   "source": [
    "mod = mx.mod.Module(b,data_names=['a'])"
   ]
  },
  {
   "cell_type": "code",
   "execution_count": 14,
   "metadata": {},
   "outputs": [
    {
     "data": {
      "text/plain": [
       "['a']"
      ]
     },
     "execution_count": 14,
     "metadata": {},
     "output_type": "execute_result"
    }
   ],
   "source": [
    "b.list_arguments()"
   ]
  },
  {
   "cell_type": "code",
   "execution_count": 15,
   "metadata": {
    "scrolled": true
   },
   "outputs": [
    {
     "name": "stderr",
     "output_type": "stream",
     "text": [
      "/mnt/data-1/data/jiajie.tang/miniconda3/envs/gluon/lib/python3.6/site-packages/mxnet/module/base_module.py:67: UserWarning: Data provided by label_shapes don't match names specified by label_names ([] vs. ['softmax_label'])\n",
      "  warnings.warn(msg)\n"
     ]
    }
   ],
   "source": [
    "mod.bind(data_shapes=[('a',(1,1,5,5))], force_rebind = True)"
   ]
  },
  {
   "cell_type": "code",
   "execution_count": 16,
   "metadata": {
    "collapsed": true
   },
   "outputs": [],
   "source": [
    "mod.init_params()"
   ]
  },
  {
   "cell_type": "code",
   "execution_count": 17,
   "metadata": {
    "collapsed": true
   },
   "outputs": [],
   "source": [
    "mod.forward( mx.io.DataBatch(data=[a]),is_train=False )"
   ]
  },
  {
   "cell_type": "code",
   "execution_count": 17,
   "metadata": {},
   "outputs": [
    {
     "data": {
      "text/plain": [
       "(-0.5635708, 0.91435593)"
      ]
     },
     "execution_count": 17,
     "metadata": {},
     "output_type": "execute_result"
    }
   ],
   "source": [
    "it.mean(),it.std()"
   ]
  },
  {
   "cell_type": "code",
   "execution_count": null,
   "metadata": {
    "collapsed": true
   },
   "outputs": [],
   "source": []
  }
 ],
 "metadata": {
  "kernelspec": {
   "display_name": "Python [conda env:gluon]",
   "language": "python",
   "name": "conda-env-gluon-py"
  },
  "language_info": {
   "codemirror_mode": {
    "name": "ipython",
    "version": 3
   },
   "file_extension": ".py",
   "mimetype": "text/x-python",
   "name": "python",
   "nbconvert_exporter": "python",
   "pygments_lexer": "ipython3",
   "version": "3.6.3"
  }
 },
 "nbformat": 4,
 "nbformat_minor": 2
}
